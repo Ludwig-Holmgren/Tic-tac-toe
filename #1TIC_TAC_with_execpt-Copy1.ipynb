{
 "cells": [
  {
   "cell_type": "code",
   "execution_count": 1,
   "metadata": {},
   "outputs": [],
   "source": [
    "# Step 1 import libraries\n",
    "# Step 2 play ground 3x3matrix\n",
    "# Step 3 player assignment x or 0\n",
    "# Step 4 check the locations of user inputs\n",
    "# Step 5 compare if three inputs in a row or in a column and\n",
    "# Step 6 random player selection\n",
    "# Step 7 check empty index space\n",
    "# Step 8 check if the boxes are full\n",
    "# Step 9 check the locations of a user\n",
    "# Step 10 execution play again option"
   ]
  },
  {
   "cell_type": "code",
   "execution_count": 2,
   "metadata": {},
   "outputs": [],
   "source": [
    "# display_board\n",
    "# player_assignment\n",
    "# who_starts\n",
    "# place_marker\n",
    "# win_check\n",
    "# isboxfree\n",
    "# isboardfull\n",
    "# location_choice\n",
    "# replay"
   ]
  },
  {
   "cell_type": "code",
   "execution_count": 1,
   "metadata": {},
   "outputs": [],
   "source": [
    "# 1\n",
    "import random\n",
    "from IPython.display import clear_output\n",
    "\n",
    "def display_board(board):\n",
    "\n",
    "    \n",
    "    print('   |   |')\n",
    "    print(' ' + board[1] + ' | ' + board[2] + ' | ' + board[3])\n",
    "    print('   |   |')\n",
    "    print('-----------')\n",
    "    print('   |   |')\n",
    "    print(' ' + board[4] + ' | ' + board[5] + ' | ' + board[6])\n",
    "    print('   |   |')\n",
    "    print('-----------')\n",
    "    print('   |   |')\n",
    "    print(' ' + board[7] + ' | ' + board[8] + ' | ' + board[9])\n",
    "    print('   |   |')"
   ]
  },
  {
   "cell_type": "code",
   "execution_count": 2,
   "metadata": {},
   "outputs": [
    {
     "name": "stdout",
     "output_type": "stream",
     "text": [
      "   |   |\n",
      " X | O | X\n",
      "   |   |\n",
      "-----------\n",
      "   |   |\n",
      " O | X | O\n",
      "   |   |\n",
      "-----------\n",
      "   |   |\n",
      " X | O | X\n",
      "   |   |\n"
     ]
    }
   ],
   "source": [
    "test_board = [\"#\",\"X\",\"O\",\"X\",\"O\",\"X\",\"O\",\"X\",\"O\",\"X\"]\n",
    "display_board(test_board)"
   ]
  },
  {
   "cell_type": "code",
   "execution_count": 3,
   "metadata": {},
   "outputs": [],
   "source": [
    "# 2\n",
    "def player_assignment():\n",
    "    \"\"\"\"\"\"\n",
    "    \n",
    "    marker = \"\"\n",
    "    \"\"\"Keeps on question while statement not met, player 1 chooses to be X or O, also makes\n",
    "    also uppercase the input\"\"\"\n",
    "    \n",
    "    while not (marker == \"X\" or marker == \"O\"): \n",
    "        marker = input(\"Player : Do you want to be X or O)\").upper()\n",
    "        \n",
    "    if marker == \"X\":\n",
    "        return (\"X\",\"O\")\n",
    "    else:\n",
    "        return (\"O\",\"X\")"
   ]
  },
  {
   "cell_type": "code",
   "execution_count": 4,
   "metadata": {},
   "outputs": [],
   "source": [
    "# 3\n",
    "def who_starts():\n",
    "    if random.randint(0, 1) == 0: #import random library for this function,for random player start\n",
    "        return 'O'\n",
    "    else:\n",
    "        return 'X'"
   ]
  },
  {
   "cell_type": "code",
   "execution_count": 5,
   "metadata": {},
   "outputs": [],
   "source": [
    "# 4\n",
    "def place_marker(board, marker, position):\n",
    "    clear_output()\n",
    "     # makes the position index to marker in the table\n",
    "    board[position] = marker"
   ]
  },
  {
   "cell_type": "code",
   "execution_count": 6,
   "metadata": {},
   "outputs": [],
   "source": [
    "# 5 \n",
    "def win_check(board,mark):\n",
    "    \n",
    "    return ((board[1] == mark and board[2] == mark and board[3] == mark) or # Horizontal\n",
    "    (board[4] == mark and board[5] == mark and board[6] == mark) or # Horizontal\n",
    "    (board[7] == mark and board[8] == mark and board[9] == mark) or # Horizontal \n",
    "    (board[7] == mark and board[4] == mark and board[1] == mark) or # Vertical\n",
    "    (board[8] == mark and board[5] == mark and board[2] == mark) or # Vertical\n",
    "    (board[9] == mark and board[6] == mark and board[3] == mark) or # Vertical\n",
    "    (board[7] == mark and board[5] == mark and board[3] == mark) or # Diangnoal\n",
    "    (board[9] == mark and board[5] == mark and board[1] == mark)) # Diangoal\n",
    "\n",
    "# 8 different ways to win the game, if defintions met its win"
   ]
  },
  {
   "cell_type": "code",
   "execution_count": null,
   "metadata": {},
   "outputs": [],
   "source": []
  },
  {
   "cell_type": "code",
   "execution_count": 7,
   "metadata": {},
   "outputs": [],
   "source": [
    "# 6\n",
    "def isboxfree(board, move):\n",
    "    return board[move] == ' '\n",
    "# where you can put your marker"
   ]
  },
  {
   "cell_type": "code",
   "execution_count": 8,
   "metadata": {},
   "outputs": [],
   "source": [
    "# 7\n",
    "# of the board is full and not conditions met it is a tie\n",
    "def isboardfull(board):\n",
    "    for i in range(1,10):\n",
    "        if isboxfree(board, i):\n",
    "            return False\n",
    "    return True"
   ]
  },
  {
   "cell_type": "code",
   "execution_count": 9,
   "metadata": {},
   "outputs": [],
   "source": [
    "# 8\n",
    "def location_choice(board):\n",
    "    position = 0\n",
    "    \n",
    "    while position not in [1,2,3,4,5,6,7,8,9] or not isboxfree(board, position):\n",
    "        try:\n",
    "            position = int(input('Choose your next position: (1-9) '))\n",
    "        except:\n",
    "            print(\"I'm sorry, please try again.\")\n",
    "        \n",
    "    return position"
   ]
  },
  {
   "cell_type": "code",
   "execution_count": 10,
   "metadata": {},
   "outputs": [],
   "source": [
    "# 9\n",
    "def replay():\n",
    "    playagain = input(\"Do you want to play again (y/n) ? \")\n",
    "    if playagain.lower() == 'y':\n",
    "        print(\"Thank you for choosing to play again!\")\n",
    "        return True\n",
    "    elif playagain.lower() == 'n':\n",
    "        print(\"Thank you for playing.\")\n",
    "        return False\n",
    "    else:\n",
    "        return replay()"
   ]
  },
  {
   "cell_type": "code",
   "execution_count": null,
   "metadata": {},
   "outputs": [],
   "source": [
    "# Execute the code\n",
    "\n",
    "\n",
    "while True:\n",
    "    theboard = [\"#\",\" \",\" \",\" \",\" \",\" \",\" \",\" \",\" \",\" \"]\n",
    "    player1_marker , player2_marker = player_assignment()\n",
    "    starter = who_starts()\n",
    "    print(starter + \" will start play\")\n",
    "    \n",
    "    \n",
    "    if player1_marker or player2_marker == \"X\" or \"O\":\n",
    "        game_on = True\n",
    "    else:\n",
    "        game_on = False\n",
    "\n",
    "    while game_on:\n",
    "        if starter == \"X\":\n",
    "            \n",
    "            \n",
    "            display_board(theboard)\n",
    "            position = location_choice(theboard)\n",
    "            place_marker(theboard, \"X\", position)\n",
    "\n",
    "            if win_check(theboard, \"X\"):\n",
    "                display_board(theboard)\n",
    "                print('Congratulations! X have won the game!')\n",
    "                game_on = False\n",
    "            else:\n",
    "                if isboardfull(theboard):\n",
    "                    display_board(theboard)\n",
    "                    print('The game is a draw!')\n",
    "                    break\n",
    "                else:\n",
    "                    starter = 'O'\n",
    "\n",
    "        else:\n",
    "            display_board(theboard)\n",
    "            position = location_choice(theboard)\n",
    "            place_marker(theboard,\"O\", position)\n",
    "\n",
    "            if win_check(theboard,\"O\"):\n",
    "                display_board(theboard)\n",
    "                print('O has won!')\n",
    "                game_on = False\n",
    "            else:\n",
    "                if isboardfull(theboard):\n",
    "                    display_board(theboard)\n",
    "                    print('The game is a draw!')\n",
    "                    break\n",
    "                else:\n",
    "                    starter = 'X'\n",
    "                    \n",
    "    if not replay():\n",
    "        print\n",
    "        \n",
    "        break\n",
    "\n",
    "        \n",
    "    # TIC TAC TUE \n",
    "    # Rules\n",
    "    # game need two players, choose X or O\n",
    "    # The first turn will shuffle the starter\n",
    "    # Get 3 in a row tow win, using index positions below\n",
    "    \n",
    "        \n",
    "    # marker positions\n",
    "    \n",
    "    \n",
    "\"\"\"     |   |         \"\"\" \n",
    "\"\"\"   1 | 2 | 3       \"\"\"\n",
    "\"\"\"     |   |         \"\"\"\n",
    "\"\"\" -------------     \"\"\"\n",
    "\"\"\"     |   |         \"\"\" \n",
    "\"\"\"   4 | 5 | 6       \"\"\"\n",
    "\"\"\"     |   |         \"\"\"\n",
    "\"\"\" -------------     \"\"\"\n",
    "\"\"\"     |   |         \"\"\" \n",
    "\"\"\"   7 | 8 | 9       \"\"\"\n",
    "\"\"\"     |   |         \"\"\""
   ]
  },
  {
   "cell_type": "code",
   "execution_count": null,
   "metadata": {},
   "outputs": [],
   "source": []
  },
  {
   "cell_type": "code",
   "execution_count": null,
   "metadata": {},
   "outputs": [],
   "source": []
  }
 ],
 "metadata": {
  "kernelspec": {
   "display_name": "Python 3",
   "language": "python",
   "name": "python3"
  },
  "language_info": {
   "codemirror_mode": {
    "name": "ipython",
    "version": 3
   },
   "file_extension": ".py",
   "mimetype": "text/x-python",
   "name": "python",
   "nbconvert_exporter": "python",
   "pygments_lexer": "ipython3",
   "version": "3.7.6"
  },
  "toc": {
   "base_numbering": 1,
   "nav_menu": {},
   "number_sections": true,
   "sideBar": true,
   "skip_h1_title": false,
   "title_cell": "Table of Contents",
   "title_sidebar": "Contents",
   "toc_cell": false,
   "toc_position": {},
   "toc_section_display": true,
   "toc_window_display": false
  }
 },
 "nbformat": 4,
 "nbformat_minor": 4
}
